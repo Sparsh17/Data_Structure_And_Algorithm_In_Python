{
 "cells": [
  {
   "cell_type": "markdown",
   "metadata": {},
   "source": [
    "## Time complexity of Merge and Selection Sort"
   ]
  },
  {
   "cell_type": "code",
   "execution_count": 9,
   "metadata": {},
   "outputs": [],
   "source": [
    "def merge(a1,a2,a):\n",
    "    i=0\n",
    "    j=0\n",
    "    k=0\n",
    "    while i<len(a1) and j<len(a2):\n",
    "        if a1[i] < a2[j]:\n",
    "            a[k] = a1[i]\n",
    "            i += 1\n",
    "            k += 1\n",
    "        else:\n",
    "            a[k] = a2[j]\n",
    "            j += 1\n",
    "            k += 1\n",
    "    while i<len(a1):\n",
    "        a[k] = a1[i]\n",
    "        i += 1\n",
    "        k += 1\n",
    "    while j<len(a2):\n",
    "        a[k] = a2[j]\n",
    "        j += 1\n",
    "        k += 1\n",
    "\n",
    "\n",
    "        \n",
    "def merge_sort(a):\n",
    "    if len(a) == 0 or len(a) == 1:\n",
    "        return\n",
    "    mid = len(a) // 2\n",
    "    a1 = a[0:mid]\n",
    "    a2 = a[mid:]\n",
    "    \n",
    "    merge_sort(a1)\n",
    "    merge_sort(a2)\n",
    "    \n",
    "    merge(a1,a2,a)\n",
    "    \n",
    "def selection_sort(a):\n",
    "    for i in range(len(a)):\n",
    "        min_idx = i\n",
    "        for j in range(i+1,len(a)):\n",
    "            if a[min_idx] > a[j]:\n",
    "                min_idx = j\n",
    "        a[i],a[min_idx] = a[min_idx],a[i]\n",
    "        \n",
    "def create_rev_array(n):\n",
    "    a = []\n",
    "    for i in range(n,0,-1):\n",
    "        a.append(i)\n",
    "    return a\n",
    "\n",
    "n = 10000\n",
    "import time"
   ]
  },
  {
   "cell_type": "code",
   "execution_count": 7,
   "metadata": {},
   "outputs": [
    {
     "name": "stdout",
     "output_type": "stream",
     "text": [
      "10000 7.540128469467163\n"
     ]
    }
   ],
   "source": [
    "a = create_rev_array(n)\n",
    "start = time.time()\n",
    "selection_sort(a)\n",
    "end = time.time()\n",
    "print(n,end-start)"
   ]
  },
  {
   "cell_type": "code",
   "execution_count": 10,
   "metadata": {},
   "outputs": [
    {
     "name": "stdout",
     "output_type": "stream",
     "text": [
      "10000 0.1408095359802246\n"
     ]
    }
   ],
   "source": [
    "a = create_rev_array(n)\n",
    "start = time.time()\n",
    "merge_sort(a)\n",
    "end = time.time()\n",
    "print(n,end-start)"
   ]
  },
  {
   "cell_type": "markdown",
   "metadata": {},
   "source": [
    "## Time complexity:\n",
    "## 1. Bubble Sort: O(n^2)\n",
    "## 2. Worst case: Selection sort,Insertion Sort = O(n^2)"
   ]
  },
  {
   "cell_type": "markdown",
   "metadata": {},
   "source": [
    "# Find Time Complexity of below codes:"
   ]
  },
  {
   "cell_type": "code",
   "execution_count": null,
   "metadata": {},
   "outputs": [],
   "source": [
    "# 1.: in terms of n assume k constant\n",
    "for i in range(n):\n",
    "    for j in range(k):\n",
    "        print(i+j)\n",
    "\n",
    "# O(n)\n",
    "# ************************************************\n",
    "\n",
    "# 2. \n",
    "for i in range(n):\n",
    "    k=n\n",
    "    while k>0:\n",
    "        k //= 2\n",
    "        \n",
    "# O(nlogn)\n",
    "\n",
    "# ************************************************\n",
    "\n",
    "# 3. \n",
    "while n>0:\n",
    "    n = n//4\n",
    "    \n",
    "# O(logn to base 4)\n",
    "\n",
    "# ************************************************\n",
    "\n",
    "# 4. \n",
    "def multiplyRec(m, n):\n",
    "    if n==1:\n",
    "        return m\n",
    "    return m + multiplyRec(m,  n - 1)\n",
    "\n",
    "# o(n)\n",
    "\n",
    "# ************************************************\n",
    "\n",
    "# 5. \n",
    "def sumOfDigits(n):\n",
    "    if n < 10:\n",
    "        return n\n",
    "    sum = (n % 10) + sumOfDigits(n//10)\n",
    "    return sum\n",
    "\n",
    "# O(logn) - log is to base 10\n",
    "\n",
    "# ************************************************\n",
    "\n",
    "# 6. Binary Search\n",
    "\n",
    "# Recurrence relation: k1 + t(n/2)\n",
    "    \n",
    "#     t(n) = k*x\n",
    "    \n",
    "# n / 2^x = 1\n",
    "# x = logn\n",
    "\n",
    "# t(n) = k*logn\n",
    "\n",
    "# Time Complexity of Binary Search = O(logn)\n",
    "\n",
    "# ************************************************\n",
    "\n",
    "# 7. recurrence relation for merge sort :\n",
    "    \n",
    "#     T(n) = 2T(n/2) + O(n)\n",
    "\n",
    "# ----> For merging two sorted arrays of size m and n into a sorted array of size m+n, we require operations -\n",
    "#             O(m+n)\n",
    "    \n",
    "# ------> Time Complexity of Merge Sort : O(nlogn)\n",
    "\n",
    "# ************************************************\n",
    "\n",
    "# 8. Fibonacci Time Complexity\n",
    "\n",
    "def fib(n): \n",
    "    if n == 0 or n == 1:\n",
    "        return n\n",
    "    return fib(n - 1) + fib(n - 2)\n",
    "\n",
    "# 1 + 2 + 2^2 + 2^3 + 2^4 + ----------- 2^n-1\n",
    "#      2^n - 1\n",
    "#         k(2^n)\n",
    "\n",
    "# o(2^n)"
   ]
  },
  {
   "cell_type": "markdown",
   "metadata": {},
   "source": [
    "## Time Complexity Improvement"
   ]
  },
  {
   "cell_type": "markdown",
   "metadata": {},
   "source": [
    "## Power"
   ]
  },
  {
   "cell_type": "code",
   "execution_count": 3,
   "metadata": {},
   "outputs": [
    {
     "name": "stdout",
     "output_type": "stream",
     "text": [
      "3 4\n",
      "81\n"
     ]
    }
   ],
   "source": [
    "def power(x,n):\n",
    "    if n == 0:\n",
    "        return 1\n",
    "    small_pow = power(x,n/2)\n",
    "    small_pow1 = power(x,n//2)\n",
    "    if n%2 == 0:\n",
    "        return small_pow * small_pow\n",
    "    else:\n",
    "        return x * small_pow1 * small_pow1\n",
    "\n",
    "x, n=list(int(i) for i in input().strip().split(' '))\n",
    "print(power(x, n))\n",
    "\n",
    "# Here time complexity is O(logn)"
   ]
  },
  {
   "cell_type": "code",
   "execution_count": 4,
   "metadata": {},
   "outputs": [
    {
     "name": "stdout",
     "output_type": "stream",
     "text": [
      "1 --> 2 --> 3 --> 4 --> 5 --> None\n",
      "5 --> 4 --> 3 --> 2 --> 1 --> None\n"
     ]
    }
   ],
   "source": [
    "\n",
    "class Node:\n",
    "    def __init__(self, data):\n",
    "        self.data = data\n",
    "        self.next = None\n",
    "   \n",
    "    \n",
    "def printll(head):\n",
    "    while head is not None:\n",
    "        print(head.data, \"-->\", end = \" \")\n",
    "        head = head.next\n",
    "    print(\"None\")\n",
    "        \n",
    "def ll(arr):\n",
    "    if len(arr) == 0:\n",
    "        return None\n",
    "    head = Node(arr[0])\n",
    "    last = head\n",
    "    for data in arr[1:]:\n",
    "        last.next = Node(data)\n",
    "        last = last.next\n",
    "    return head  \n",
    "\n",
    "def reversell(head):\n",
    "    \n",
    "    if head is None or head.next is None:\n",
    "        return head\n",
    "   \n",
    "    smallhead = reversell(head.next)  \n",
    "    curr = smallhead\n",
    "    \n",
    "    while curr.next is not None:\n",
    "        curr = curr.next\n",
    "        \n",
    "    curr.next = head\n",
    "    head.next = None\n",
    "    return smallhead\n",
    "\n",
    "#arr = list(int(x) for x in input().split())\n",
    "arr = [1,2,3,4,5,-1]\n",
    "l = ll(arr[:-1])\n",
    "printll(l)\n",
    "\n",
    "x = reversell(l)\n",
    "printll(x)"
   ]
  },
  {
   "cell_type": "code",
   "execution_count": null,
   "metadata": {},
   "outputs": [],
   "source": []
  }
 ],
 "metadata": {
  "kernelspec": {
   "display_name": "Python 3",
   "language": "python",
   "name": "python3"
  },
  "language_info": {
   "codemirror_mode": {
    "name": "ipython",
    "version": 3
   },
   "file_extension": ".py",
   "mimetype": "text/x-python",
   "name": "python",
   "nbconvert_exporter": "python",
   "pygments_lexer": "ipython3",
   "version": "3.7.6"
  }
 },
 "nbformat": 4,
 "nbformat_minor": 4
}
