{
 "cells": [
  {
   "cell_type": "markdown",
   "metadata": {},
   "source": [
    "## Time complexity of Merge and Selection Sort"
   ]
  },
  {
   "cell_type": "code",
   "execution_count": 9,
   "metadata": {},
   "outputs": [],
   "source": [
    "def merge(a1,a2,a):\n",
    "    i=0\n",
    "    j=0\n",
    "    k=0\n",
    "    while i<len(a1) and j<len(a2):\n",
    "        if a1[i] < a2[j]:\n",
    "            a[k] = a1[i]\n",
    "            i += 1\n",
    "            k += 1\n",
    "        else:\n",
    "            a[k] = a2[j]\n",
    "            j += 1\n",
    "            k += 1\n",
    "    while i<len(a1):\n",
    "        a[k] = a1[i]\n",
    "        i += 1\n",
    "        k += 1\n",
    "    while j<len(a2):\n",
    "        a[k] = a2[j]\n",
    "        j += 1\n",
    "        k += 1\n",
    "\n",
    "\n",
    "        \n",
    "def merge_sort(a):\n",
    "    if len(a) == 0 or len(a) == 1:\n",
    "        return\n",
    "    mid = len(a) // 2\n",
    "    a1 = a[0:mid]\n",
    "    a2 = a[mid:]\n",
    "    \n",
    "    merge_sort(a1)\n",
    "    merge_sort(a2)\n",
    "    \n",
    "    merge(a1,a2,a)\n",
    "    \n",
    "def selection_sort(a):\n",
    "    for i in range(len(a)):\n",
    "        min_idx = i\n",
    "        for j in range(i+1,len(a)):\n",
    "            if a[min_idx] > a[j]:\n",
    "                min_idx = j\n",
    "        a[i],a[min_idx] = a[min_idx],a[i]\n",
    "        \n",
    "def create_rev_array(n):\n",
    "    a = []\n",
    "    for i in range(n,0,-1):\n",
    "        a.append(i)\n",
    "    return a\n",
    "\n",
    "n = 10000\n",
    "import time"
   ]
  },
  {
   "cell_type": "code",
   "execution_count": 7,
   "metadata": {},
   "outputs": [
    {
     "name": "stdout",
     "output_type": "stream",
     "text": [
      "10000 7.540128469467163\n"
     ]
    }
   ],
   "source": [
    "a = create_rev_array(n)\n",
    "start = time.time()\n",
    "selection_sort(a)\n",
    "end = time.time()\n",
    "print(n,end-start)"
   ]
  },
  {
   "cell_type": "code",
   "execution_count": 10,
   "metadata": {},
   "outputs": [
    {
     "name": "stdout",
     "output_type": "stream",
     "text": [
      "10000 0.1408095359802246\n"
     ]
    }
   ],
   "source": [
    "a = create_rev_array(n)\n",
    "start = time.time()\n",
    "merge_sort(a)\n",
    "end = time.time()\n",
    "print(n,end-start)"
   ]
  },
  {
   "cell_type": "markdown",
   "metadata": {},
   "source": [
    "## Time complexity:\n",
    "## 1. Bubble Sort: O(n^2)\n",
    "## 2. Worst case: Selection sort,Insertion Sort = O(n^2)"
   ]
  },
  {
   "cell_type": "markdown",
   "metadata": {},
   "source": [
    "# Find Time Complexity of below codes:"
   ]
  },
  {
   "cell_type": "code",
   "execution_count": null,
   "metadata": {},
   "outputs": [],
   "source": [
    "# 1.: in terms of n assume k constant\n",
    "for i in range(n):\n",
    "    for j in range(k):\n",
    "        print(i+j)\n",
    "\n",
    "# O(n)\n",
    "# ************************************************\n",
    "\n",
    "# 2. \n",
    "for i in range(n):\n",
    "    k=n\n",
    "    while k>0:\n",
    "        k //= 2\n",
    "        \n",
    "# O(nlogn)\n",
    "\n",
    "# ************************************************\n",
    "\n",
    "# 3. \n",
    "while n>0:\n",
    "    n = n//4\n",
    "    \n",
    "# O(logn to base 4)\n",
    "\n",
    "# ************************************************\n",
    "\n",
    "# 4. \n",
    "def multiplyRec(m, n):\n",
    "    if n==1:\n",
    "        return m\n",
    "    return m + multiplyRec(m,  n - 1)\n",
    "\n",
    "# o(n)\n",
    "\n",
    "# ************************************************\n",
    "\n",
    "# 5. \n",
    "def sumOfDigits(n):\n",
    "    if n < 10:\n",
    "        return n\n",
    "    sum = (n % 10) + sumOfDigits(n//10)\n",
    "    return sum\n",
    "\n",
    "# O(logn) - log is to base 10\n",
    "\n",
    "# ************************************************\n",
    "\n",
    "# 6. Binary Search\n",
    "\n",
    "# Recurrence relation: k1 + t(n/2)\n",
    "    \n",
    "#     t(n) = k*x\n",
    "    \n",
    "# n / 2^x = 1\n",
    "# x = logn\n",
    "\n",
    "# t(n) = k*logn\n",
    "\n",
    "# Time Complexity of Binary Search = O(logn)\n",
    "\n",
    "# ************************************************\n",
    "\n",
    "# 7. recurrence relation for merge sort :\n",
    "    \n",
    "#     T(n) = 2T(n/2) + O(n)\n",
    "\n",
    "# ----> For merging two sorted arrays of size m and n into a sorted array of size m+n, we require operations -\n",
    "#             O(m+n)\n",
    "    \n",
    "# ------> Time Complexity of Merge Sort : O(nlogn)\n",
    "\n",
    "# ************************************************\n",
    "\n",
    "# 8. Fibonacci Time Complexity\n",
    "\n",
    "def fib(n): \n",
    "    if n == 0 or n == 1:\n",
    "        return n\n",
    "    return fib(n - 1) + fib(n - 2)\n",
    "\n",
    "# 1 + 2 + 2^2 + 2^3 + 2^4 + ----------- 2^n-1\n",
    "#      2^n - 1\n",
    "#         k(2^n)\n",
    "\n",
    "# o(2^n)"
   ]
  },
  {
   "cell_type": "markdown",
   "metadata": {},
   "source": [
    "## Time Complexity Improvement"
   ]
  },
  {
   "cell_type": "markdown",
   "metadata": {},
   "source": [
    "## Power"
   ]
  },
  {
   "cell_type": "code",
   "execution_count": 3,
   "metadata": {},
   "outputs": [
    {
     "name": "stdout",
     "output_type": "stream",
     "text": [
      "3 4\n",
      "81\n"
     ]
    }
   ],
   "source": [
    "def power(x,n):\n",
    "    if n == 0:\n",
    "        return 1\n",
    "    small_pow = power(x,n/2)\n",
    "    small_pow1 = power(x,n//2)\n",
    "    if n%2 == 0:\n",
    "        return small_pow * small_pow\n",
    "    else:\n",
    "        return x * small_pow1 * small_pow1\n",
    "\n",
    "x, n=list(int(i) for i in input().strip().split(' '))\n",
    "print(power(x, n))\n",
    "\n",
    "# Here time complexity is O(logn)"
   ]
  },
  {
   "cell_type": "markdown",
   "metadata": {},
   "source": [
    "## Array Intersection"
   ]
  },
  {
   "cell_type": "code",
   "execution_count": 3,
   "metadata": {},
   "outputs": [
    {
     "name": "stdout",
     "output_type": "stream",
     "text": [
      "1\n",
      "4\n",
      "2 6 1 2\n",
      "5\n",
      "1 2 3 4 2\n",
      "1 2 2 "
     ]
    }
   ],
   "source": [
    "from sys import stdin\n",
    "\n",
    "def intersection(a1,a2):\n",
    "    a1.sort()\n",
    "    a2.sort()\n",
    "    p1=0\n",
    "    p2=0\n",
    "    while p1<len(a1) and p2<len(a2):\n",
    "        if(a1[p1] == a2[p2]):\n",
    "            print(a1[p1],end=' ')\n",
    "            p1 += 1\n",
    "            p2 += 1\n",
    "        elif a1[p1] < a2[p2]:\n",
    "            p1 += 1\n",
    "        else:\n",
    "            p2 += 1\n",
    "\n",
    "t = int(input())\n",
    "n = int(input())\n",
    "a1 = list(int(x) for x in input().split())\n",
    "m = int(input())\n",
    "a2 = list(int(x) for x in input().split())\n",
    "intersection(a1,a2)"
   ]
  },
  {
   "cell_type": "markdown",
   "metadata": {},
   "source": [
    "## Array Equilibrium Index"
   ]
  },
  {
   "cell_type": "code",
   "execution_count": 5,
   "metadata": {},
   "outputs": [
    {
     "name": "stdout",
     "output_type": "stream",
     "text": [
      "1\n",
      "5\n",
      "1 4 9 3 2\n",
      "2\n"
     ]
    }
   ],
   "source": [
    "def equilibrium(arr):\n",
    "    total_sum = 0\n",
    "    i = 0\n",
    "    while i<len(arr):\n",
    "        total_sum += arr[i]\n",
    "        i += 1\n",
    "    left_sum = 0\n",
    "    index = 0\n",
    "    while index < len(arr):\n",
    "        right_sum = total_sum - left_sum - arr[index]\n",
    "        if left_sum == right_sum:\n",
    "            return index\n",
    "        left_sum += arr[index]\n",
    "        index += 1\n",
    "    return -1\n",
    "\n",
    "t = int(input())\n",
    "n = int(input())\n",
    "a1 = list(int(x) for x in input().split())\n",
    "print(equilibrium(a1))"
   ]
  },
  {
   "cell_type": "markdown",
   "metadata": {},
   "source": [
    "## Find Unique Element"
   ]
  },
  {
   "cell_type": "code",
   "execution_count": 7,
   "metadata": {
    "scrolled": true
   },
   "outputs": [
    {
     "name": "stdout",
     "output_type": "stream",
     "text": [
      "1\n",
      "5\n",
      "1 7 1 3 7\n",
      "3\n"
     ]
    }
   ],
   "source": [
    "def findUnique(arr,n):\n",
    "    unique = arr[0]\n",
    "    for i in range(1,n):\n",
    "        unique = unique ^ arr[i]\n",
    "    return unique\n",
    "\n",
    "t = int(input())\n",
    "n = int(input())\n",
    "arr = list(int(x) for x in input().split())\n",
    "print(findUnique(arr,n))\n",
    "\n",
    "# Time complexity is O(n)"
   ]
  },
  {
   "cell_type": "markdown",
   "metadata": {},
   "source": [
    "## Duplicate in Array"
   ]
  },
  {
   "cell_type": "code",
   "execution_count": 8,
   "metadata": {},
   "outputs": [
    {
     "name": "stdout",
     "output_type": "stream",
     "text": [
      "1\n",
      "9\n",
      "0 7 2 5 4 7 1 3 6\n",
      "7\n"
     ]
    }
   ],
   "source": [
    "def findDuplicate(arr,n):\n",
    "    sumOfElements = 0\n",
    "    for i in range(n):\n",
    "        sumOfElements += arr[i]\n",
    "        \n",
    "    sumOfNminusTwoNaturalNumbers = 0\n",
    "    for i in range(n-1):\n",
    "        sumOfNminusTwoNaturalNumbers += i\n",
    "    \n",
    "    duplicate = sumOfElements - sumOfNminusTwoNaturalNumbers\n",
    "    \n",
    "    return duplicate\n",
    "\n",
    "t = int(input())\n",
    "n = int(input())\n",
    "arr = [int(x) for x in input().split()]\n",
    "print(findDuplicate(arr,n))"
   ]
  },
  {
   "cell_type": "code",
   "execution_count": null,
   "metadata": {},
   "outputs": [],
   "source": []
  }
 ],
 "metadata": {
  "kernelspec": {
   "display_name": "Python 3",
   "language": "python",
   "name": "python3"
  },
  "language_info": {
   "codemirror_mode": {
    "name": "ipython",
    "version": 3
   },
   "file_extension": ".py",
   "mimetype": "text/x-python",
   "name": "python",
   "nbconvert_exporter": "python",
   "pygments_lexer": "ipython3",
   "version": "3.7.6"
  }
 },
 "nbformat": 4,
 "nbformat_minor": 4
}
