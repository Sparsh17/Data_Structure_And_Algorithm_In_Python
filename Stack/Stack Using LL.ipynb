{
 "cells": [
  {
   "cell_type": "code",
   "execution_count": 2,
   "metadata": {},
   "outputs": [
    {
     "name": "stdout",
     "output_type": "stream",
     "text": [
      "12\n",
      "11\n",
      "10\n",
      "Stack is Empty\n"
     ]
    }
   ],
   "source": [
    "class Node :\n",
    "\n",
    "    def __init__(self, data) :\n",
    "        self.data = data\n",
    "        self.next = None\n",
    "\n",
    "class Stack:\n",
    "    \n",
    "    def __init__(self):\n",
    "        self.__head = None\n",
    "        self.__cnt = 0\n",
    "\n",
    "    def push(self,item):\n",
    "        newNode = Node(item)\n",
    "        newNode.next = self.__head\n",
    "        self.__head = newNode\n",
    "        self.__cnt += 1\n",
    "    \n",
    "    def pop(self):\n",
    "        if self.isEmpty():\n",
    "            print(\"Stack is Empty\")\n",
    "            return \n",
    "        data = self.__head.data\n",
    "        self.__head = self.__head.next\n",
    "        self.__cnt -= 1\n",
    "        \n",
    "        return data\n",
    "    \n",
    "    def size(self):\n",
    "        return self.__cnt\n",
    "    \n",
    "    def isEmpty(self):\n",
    "        return self.size() == 0\n",
    "    \n",
    "    def top(self):\n",
    "        if self.isEmpty():\n",
    "            print(\"Stack is Empty\")\n",
    "            return\n",
    "        return self.__head\n",
    "    \n",
    "s = Stack()\n",
    "s.push(10)\n",
    "s.push(11)\n",
    "s.push(12)\n",
    "\n",
    "while s.isEmpty() is False:\n",
    "    print(s.pop())\n",
    "    \n",
    "s.top()"
   ]
  },
  {
   "cell_type": "code",
   "execution_count": null,
   "metadata": {},
   "outputs": [],
   "source": []
  }
 ],
 "metadata": {
  "kernelspec": {
   "display_name": "Python 3",
   "language": "python",
   "name": "python3"
  },
  "language_info": {
   "codemirror_mode": {
    "name": "ipython",
    "version": 3
   },
   "file_extension": ".py",
   "mimetype": "text/x-python",
   "name": "python",
   "nbconvert_exporter": "python",
   "pygments_lexer": "ipython3",
   "version": "3.7.6"
  }
 },
 "nbformat": 4,
 "nbformat_minor": 4
}
