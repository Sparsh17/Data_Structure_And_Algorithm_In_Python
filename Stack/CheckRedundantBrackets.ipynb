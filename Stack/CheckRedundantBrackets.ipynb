{
 "cells": [
  {
   "cell_type": "code",
   "execution_count": 3,
   "metadata": {},
   "outputs": [
    {
     "name": "stdout",
     "output_type": "stream",
     "text": [
      "(a+(a+b))\n",
      "false\n"
     ]
    }
   ],
   "source": [
    "def checkRedundantBrackets(expression) :\n",
    "\t# Your code goes here\n",
    "    stk = list()\n",
    "    \n",
    "    for i in range(len(expression)):\n",
    "        \n",
    "        if (expression[i] == '(') or find(expression[i]):\n",
    "            stk.append(expression[i])\n",
    "        elif expression[i] == ')':\n",
    "            hasOperator = False\n",
    "            \n",
    "            while not isEmpty(stk) and top(stk) != '(':\n",
    "                stk.pop()\n",
    "                hasOperator = True\n",
    "            \n",
    "            if not hasOperator:\n",
    "                return True\n",
    "            if not isEmpty(stk):\n",
    "                stk.pop()\n",
    "                \n",
    "    return False\n",
    "\n",
    "\n",
    "\n",
    "def find(chr):\n",
    "    if chr == '+' or chr == '-' or chr == '*' or chr == '/':\n",
    "        return True\n",
    "    return False\n",
    "    \n",
    "\n",
    "def isEmpty(stack):\n",
    "    return len(stack) == 0\n",
    "\n",
    "def top(stack):\n",
    "    return stack[len(stack)-1]\n",
    "\n",
    "expression = input()\n",
    "\n",
    "if checkRedundantBrackets(expression) :\n",
    "\tprint(\"true\")\n",
    "\n",
    "else :\n",
    "\tprint(\"false\")"
   ]
  },
  {
   "cell_type": "code",
   "execution_count": null,
   "metadata": {},
   "outputs": [],
   "source": []
  }
 ],
 "metadata": {
  "kernelspec": {
   "display_name": "Python 3",
   "language": "python",
   "name": "python3"
  },
  "language_info": {
   "codemirror_mode": {
    "name": "ipython",
    "version": 3
   },
   "file_extension": ".py",
   "mimetype": "text/x-python",
   "name": "python",
   "nbconvert_exporter": "python",
   "pygments_lexer": "ipython3",
   "version": "3.7.6"
  }
 },
 "nbformat": 4,
 "nbformat_minor": 4
}
