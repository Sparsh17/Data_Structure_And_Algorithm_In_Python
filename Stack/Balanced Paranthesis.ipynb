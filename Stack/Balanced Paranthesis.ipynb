{
 "cells": [
  {
   "cell_type": "code",
   "execution_count": 4,
   "metadata": {},
   "outputs": [
    {
     "name": "stdout",
     "output_type": "stream",
     "text": [
      "[{(a+b)}]\n",
      "False\n"
     ]
    }
   ],
   "source": [
    "def isBalanced(expression) :\n",
    "\t#Your code goes here\n",
    "    s = []\n",
    "    \n",
    "    for char in expression:\n",
    "        if char in '[{(':\n",
    "            s.append(char)\n",
    "        elif char is ')':\n",
    "            if (not s or s[-1]!='('):\n",
    "                return False\n",
    "            s.pop()\n",
    "        elif char is ']':\n",
    "            if (not s or s[-1]!='[]'):\n",
    "                return False\n",
    "            s.pop()\n",
    "        elif char is '}':\n",
    "            if (not s or s[-1]!='{'):\n",
    "                return False\n",
    "            s.pop()\n",
    "    \n",
    "    if (not s):\n",
    "        return True\n",
    "    return False\n",
    "\n",
    "string = input()\n",
    "ans = isBalanced(string)\n",
    "print(ans)"
   ]
  },
  {
   "cell_type": "code",
   "execution_count": null,
   "metadata": {},
   "outputs": [],
   "source": []
  }
 ],
 "metadata": {
  "kernelspec": {
   "display_name": "Python 3",
   "language": "python",
   "name": "python3"
  },
  "language_info": {
   "codemirror_mode": {
    "name": "ipython",
    "version": 3
   },
   "file_extension": ".py",
   "mimetype": "text/x-python",
   "name": "python",
   "nbconvert_exporter": "python",
   "pygments_lexer": "ipython3",
   "version": "3.7.6"
  }
 },
 "nbformat": 4,
 "nbformat_minor": 4
}
