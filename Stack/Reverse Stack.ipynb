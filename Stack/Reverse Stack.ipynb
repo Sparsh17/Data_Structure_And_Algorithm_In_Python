{
 "cells": [
  {
   "cell_type": "code",
   "execution_count": 2,
   "metadata": {},
   "outputs": [
    {
     "name": "stdout",
     "output_type": "stream",
     "text": [
      "4\n",
      "1 2 3 4\n",
      "1 2 3 4 "
     ]
    }
   ],
   "source": [
    "def reverseStack(inputStack, extraStack) :\n",
    "    if len(inputStack) <= 1:\n",
    "        return\n",
    "    \n",
    "    while len(inputStack) != 1:\n",
    "        ele = inputStack.pop()\n",
    "        extraStack.append(ele)\n",
    "        \n",
    "    lastElement = inputStack.pop()\n",
    "    \n",
    "    while len(extraStack) != 0:\n",
    "        ele = extraStack.pop()\n",
    "        inputStack.append(ele)\n",
    "        \n",
    "    reverseStack(inputStack, extraStack)\n",
    "    \n",
    "    inputStack.append(lastElement)\n",
    "\n",
    "n = int(input())\n",
    "inputStack = [int(ele) for ele in input().split()]\n",
    "extraStack = []\n",
    "reverseStack(inputStack, extraStack)\n",
    "while len(inputStack) != 0:\n",
    "    print(inputStack.pop(),end=\" \")\n",
    "    \n",
    "# 1 2 3 4 is the output because it is printing in that pattern in which stack pop the element (LIFO)"
   ]
  },
  {
   "cell_type": "code",
   "execution_count": null,
   "metadata": {},
   "outputs": [],
   "source": []
  }
 ],
 "metadata": {
  "kernelspec": {
   "display_name": "Python 3",
   "language": "python",
   "name": "python3"
  },
  "language_info": {
   "codemirror_mode": {
    "name": "ipython",
    "version": 3
   },
   "file_extension": ".py",
   "mimetype": "text/x-python",
   "name": "python",
   "nbconvert_exporter": "python",
   "pygments_lexer": "ipython3",
   "version": "3.7.6"
  }
 },
 "nbformat": 4,
 "nbformat_minor": 4
}
