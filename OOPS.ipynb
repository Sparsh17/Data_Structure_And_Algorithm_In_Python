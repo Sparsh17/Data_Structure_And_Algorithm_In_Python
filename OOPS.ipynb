{
 "cells": [
  {
   "cell_type": "markdown",
   "metadata": {},
   "source": [
    "## Classes and Objects"
   ]
  },
  {
   "cell_type": "code",
   "execution_count": 1,
   "metadata": {},
   "outputs": [],
   "source": [
    "class Student:\n",
    "    pass"
   ]
  },
  {
   "cell_type": "code",
   "execution_count": 2,
   "metadata": {},
   "outputs": [
    {
     "name": "stdout",
     "output_type": "stream",
     "text": [
      "<class '__main__.Student'>\n",
      "<class 'list'>\n"
     ]
    }
   ],
   "source": [
    "s1 = Student()\n",
    "l = list()\n",
    "print(type(s1))\n",
    "print(type(l))"
   ]
  },
  {
   "cell_type": "code",
   "execution_count": 3,
   "metadata": {},
   "outputs": [
    {
     "name": "stdout",
     "output_type": "stream",
     "text": [
      "<__main__.Student object at 0x000001A8E8A35908> <__main__.Student object at 0x000001A8E8A352C8>\n"
     ]
    }
   ],
   "source": [
    "s2 = Student()\n",
    "s3 = Student()\n",
    "print(s2,s3)"
   ]
  },
  {
   "cell_type": "markdown",
   "metadata": {},
   "source": [
    "## Attributes"
   ]
  },
  {
   "cell_type": "code",
   "execution_count": 4,
   "metadata": {},
   "outputs": [],
   "source": [
    "class Student:\n",
    "    pass\n",
    "\n",
    "s1 = Student()\n",
    "s2 = Student()\n",
    "s3 = Student()\n",
    "\n",
    "s1.name = \"abc\"\n",
    "\n",
    "s2.rollNum = 12\n",
    "\n",
    "s3.name = \"xyz\"\n",
    "s3.rollNum = 51"
   ]
  },
  {
   "cell_type": "code",
   "execution_count": 5,
   "metadata": {},
   "outputs": [
    {
     "data": {
      "text/plain": [
       "{'name': 'abc'}"
      ]
     },
     "execution_count": 5,
     "metadata": {},
     "output_type": "execute_result"
    }
   ],
   "source": [
    "s1.__dict__"
   ]
  },
  {
   "cell_type": "code",
   "execution_count": 6,
   "metadata": {},
   "outputs": [
    {
     "data": {
      "text/plain": [
       "{'rollNum': 12}"
      ]
     },
     "execution_count": 6,
     "metadata": {},
     "output_type": "execute_result"
    }
   ],
   "source": [
    "s2.__dict__"
   ]
  },
  {
   "cell_type": "code",
   "execution_count": 7,
   "metadata": {},
   "outputs": [
    {
     "data": {
      "text/plain": [
       "{'name': 'xyz', 'rollNum': 51}"
      ]
     },
     "execution_count": 7,
     "metadata": {},
     "output_type": "execute_result"
    }
   ],
   "source": [
    "s3.__dict__"
   ]
  },
  {
   "cell_type": "code",
   "execution_count": 8,
   "metadata": {},
   "outputs": [
    {
     "data": {
      "text/plain": [
       "True"
      ]
     },
     "execution_count": 8,
     "metadata": {},
     "output_type": "execute_result"
    }
   ],
   "source": [
    "hasattr(s1,\"name\")"
   ]
  },
  {
   "cell_type": "code",
   "execution_count": 9,
   "metadata": {},
   "outputs": [
    {
     "data": {
      "text/plain": [
       "'abc'"
      ]
     },
     "execution_count": 9,
     "metadata": {},
     "output_type": "execute_result"
    }
   ],
   "source": [
    "getattr(s1,\"name\")"
   ]
  },
  {
   "cell_type": "code",
   "execution_count": 10,
   "metadata": {},
   "outputs": [],
   "source": [
    "delattr(s3,\"rollNum\")"
   ]
  },
  {
   "cell_type": "code",
   "execution_count": 12,
   "metadata": {},
   "outputs": [
    {
     "data": {
      "text/plain": [
       "{'name': 'xyz'}"
      ]
     },
     "execution_count": 12,
     "metadata": {},
     "output_type": "execute_result"
    }
   ],
   "source": [
    "s3.__dict__"
   ]
  },
  {
   "cell_type": "markdown",
   "metadata": {},
   "source": [
    "## Self Parameter"
   ]
  },
  {
   "cell_type": "code",
   "execution_count": 13,
   "metadata": {},
   "outputs": [
    {
     "name": "stdout",
     "output_type": "stream",
     "text": [
      "Name =  Sparsh\n",
      "Percentage =  90\n",
      "Student is passed\n"
     ]
    }
   ],
   "source": [
    "class Student:\n",
    "    passingPercentage = 50\n",
    "    def studentDetails(self):\n",
    "        self.name = \"Sparsh\"\n",
    "        print(\"Name = \",self.name)\n",
    "        self.percentage = 90\n",
    "        print(\"Percentage = \",self.percentage)\n",
    "        \n",
    "    def isPassed(self):\n",
    "        if self.percentage > Student.passingPercentage:\n",
    "            print(\"Student is passed\")\n",
    "        else:\n",
    "            print(\"Student is fail\")\n",
    "\n",
    "s1 = Student()\n",
    "s1.studentDetails()\n",
    "s1.isPassed()"
   ]
  },
  {
   "cell_type": "markdown",
   "metadata": {},
   "source": [
    "## Static Method"
   ]
  },
  {
   "cell_type": "code",
   "execution_count": 14,
   "metadata": {},
   "outputs": [
    {
     "name": "stdout",
     "output_type": "stream",
     "text": [
      "Name =  Sparsh\n",
      "Percentage =  90\n",
      "Student is passed\n",
      "Hi! Welcome to College\n"
     ]
    }
   ],
   "source": [
    "class Student:\n",
    "    passingPercentage = 50\n",
    "    def studentDetails(self):\n",
    "        self.name = \"Sparsh\"\n",
    "        print(\"Name = \",self.name)\n",
    "        self.percentage = 90\n",
    "        print(\"Percentage = \",self.percentage)\n",
    "        \n",
    "    def isPassed(self):\n",
    "        if self.percentage > Student.passingPercentage:\n",
    "            print(\"Student is passed\")\n",
    "        else:\n",
    "            print(\"Student is fail\")\n",
    "            \n",
    "    @staticmethod\n",
    "    def welcomeToCollege():\n",
    "        print(\"Hi! Welcome to College\")\n",
    "\n",
    "s1 = Student()\n",
    "s1.studentDetails()\n",
    "s1.isPassed()\n",
    "s1.welcomeToCollege()"
   ]
  },
  {
   "cell_type": "markdown",
   "metadata": {},
   "source": [
    "## Init Method"
   ]
  },
  {
   "cell_type": "code",
   "execution_count": 15,
   "metadata": {},
   "outputs": [
    {
     "data": {
      "text/plain": [
       "{'name': 'Sparsh', 'rollNum': 32}"
      ]
     },
     "execution_count": 15,
     "metadata": {},
     "output_type": "execute_result"
    }
   ],
   "source": [
    "class Student:\n",
    "    def __init__(self,name,rollNum):\n",
    "        self.name = name\n",
    "        self.rollNum = rollNum\n",
    "\n",
    "s1 = Student(\"Sparsh\",32)\n",
    "s1.__dict__"
   ]
  },
  {
   "cell_type": "code",
   "execution_count": 17,
   "metadata": {},
   "outputs": [
    {
     "ename": "TypeError",
     "evalue": "__init__() missing 2 required positional arguments: 'name' and 'age'",
     "output_type": "error",
     "traceback": [
      "\u001b[1;31m---------------------------------------------------------------------------\u001b[0m",
      "\u001b[1;31mTypeError\u001b[0m                                 Traceback (most recent call last)",
      "\u001b[1;32m<ipython-input-17-02b7e2b5941b>\u001b[0m in \u001b[0;36m<module>\u001b[1;34m\u001b[0m\n\u001b[0;32m     10\u001b[0m \u001b[1;33m\u001b[0m\u001b[0m\n\u001b[0;32m     11\u001b[0m \u001b[1;33m\u001b[0m\u001b[0m\n\u001b[1;32m---> 12\u001b[1;33m \u001b[0ms\u001b[0m \u001b[1;33m=\u001b[0m \u001b[0mStudent\u001b[0m\u001b[1;33m(\u001b[0m\u001b[1;33m)\u001b[0m\u001b[1;33m\u001b[0m\u001b[1;33m\u001b[0m\u001b[0m\n\u001b[0m\u001b[0;32m     13\u001b[0m \u001b[0ms\u001b[0m\u001b[1;33m.\u001b[0m\u001b[0mprint_student_details\u001b[0m\u001b[1;33m(\u001b[0m\u001b[1;33m)\u001b[0m\u001b[1;33m\u001b[0m\u001b[1;33m\u001b[0m\u001b[0m\n",
      "\u001b[1;31mTypeError\u001b[0m: __init__() missing 2 required positional arguments: 'name' and 'age'"
     ]
    }
   ],
   "source": [
    "class Student:\n",
    "\n",
    "    def __init__(self,name,age):\n",
    "        self.name = \"Rohan\"\n",
    "        self.age = 20\n",
    "\n",
    "    def print_student_details():\n",
    "        print(self.name, end= \" \")\n",
    "        print(self.age)\n",
    "\n",
    "\n",
    "s = Student()\n",
    "s.print_student_details()"
   ]
  },
  {
   "cell_type": "code",
   "execution_count": 18,
   "metadata": {},
   "outputs": [
    {
     "ename": "TypeError",
     "evalue": "print_student_details() takes 0 positional arguments but 1 was given",
     "output_type": "error",
     "traceback": [
      "\u001b[1;31m---------------------------------------------------------------------------\u001b[0m",
      "\u001b[1;31mTypeError\u001b[0m                                 Traceback (most recent call last)",
      "\u001b[1;32m<ipython-input-18-4d9dad1dc37e>\u001b[0m in \u001b[0;36m<module>\u001b[1;34m\u001b[0m\n\u001b[0;32m      8\u001b[0m         \u001b[0mprint\u001b[0m\u001b[1;33m(\u001b[0m\u001b[0mself\u001b[0m\u001b[1;33m.\u001b[0m\u001b[0mage\u001b[0m\u001b[1;33m)\u001b[0m\u001b[1;33m\u001b[0m\u001b[1;33m\u001b[0m\u001b[0m\n\u001b[0;32m      9\u001b[0m \u001b[0ms\u001b[0m \u001b[1;33m=\u001b[0m \u001b[0mStudent\u001b[0m\u001b[1;33m(\u001b[0m\u001b[1;34m\"Parikh\"\u001b[0m\u001b[1;33m,\u001b[0m\u001b[1;36m25\u001b[0m\u001b[1;33m)\u001b[0m\u001b[1;33m\u001b[0m\u001b[1;33m\u001b[0m\u001b[0m\n\u001b[1;32m---> 10\u001b[1;33m \u001b[0ms\u001b[0m\u001b[1;33m.\u001b[0m\u001b[0mprint_student_details\u001b[0m\u001b[1;33m(\u001b[0m\u001b[1;33m)\u001b[0m\u001b[1;33m\u001b[0m\u001b[1;33m\u001b[0m\u001b[0m\n\u001b[0m",
      "\u001b[1;31mTypeError\u001b[0m: print_student_details() takes 0 positional arguments but 1 was given"
     ]
    }
   ],
   "source": [
    "class Student:\n",
    "    def __init__(self,name,age):\n",
    "        self.name = \"Rohan\"\n",
    "        self.age = 20\n",
    "\n",
    "    def print_student_details():\n",
    "        print(self.name, end= \" \")\n",
    "        print(self.age)\n",
    "\n",
    "s = Student(\"Parikh\",25)\n",
    "s.print_student_details()"
   ]
  },
  {
   "cell_type": "markdown",
   "metadata": {},
   "source": [
    "## Class Method"
   ]
  },
  {
   "cell_type": "code",
   "execution_count": 35,
   "metadata": {},
   "outputs": [
    {
     "name": "stdout",
     "output_type": "stream",
     "text": [
      "21\n",
      "Name =  Sparsh\n",
      "Age =  21\n",
      "Percentage =  90\n",
      "Student is passed\n",
      "Hi! Welcome to College\n"
     ]
    }
   ],
   "source": [
    "from datetime import date\n",
    "\n",
    "class Student:\n",
    "    passingPercentage = 50\n",
    "    \n",
    "    def __init__(self,name,age=15,percentage=80):\n",
    "        self.name = name\n",
    "        self.age = age\n",
    "        self.percentage = percentage\n",
    "        \n",
    "    @classmethod\n",
    "    def fromBirthYear(cls,name,year,percentage):\n",
    "        print(date.today().year - year)\n",
    "        return cls(name, date.today().year - year, percentage)\n",
    "    \n",
    "    def studentDetails(self):\n",
    "        print(\"Name = \",self.name)\n",
    "        print(\"Age = \",self.age)\n",
    "        print(\"Percentage = \",self.percentage)\n",
    "        \n",
    "    \n",
    "        \n",
    "    def isPassed(self):\n",
    "        if self.percentage > Student.passingPercentage:\n",
    "            print(\"Student is passed\")\n",
    "        else:\n",
    "            print(\"Student is fail\")\n",
    "            \n",
    "    @staticmethod\n",
    "    def welcomeToCollege():\n",
    "        print(\"Hi! Welcome to College\")\n",
    "        \n",
    "    @staticmethod\n",
    "    def isTeen(age):\n",
    "        return age>16\n",
    "\n",
    "s1 = Student(\"Sparsh\")\n",
    "s1 = Student.fromBirthYear(\"Sparsh\",1999,90)\n",
    "s1.studentDetails()\n",
    "s1.isPassed()\n",
    "s1.welcomeToCollege()"
   ]
  },
  {
   "cell_type": "markdown",
   "metadata": {},
   "source": [
    "# OOPS_"
   ]
  },
  {
   "cell_type": "markdown",
   "metadata": {},
   "source": [
    "## Basics of Inheritance"
   ]
  },
  {
   "cell_type": "code",
   "execution_count": 2,
   "metadata": {},
   "outputs": [
    {
     "name": "stdout",
     "output_type": "stream",
     "text": [
      "Color:  Black\n",
      "MaxSpeed:  200\n",
      "Number of gears:  6\n",
      "IsConvertible:  True\n"
     ]
    }
   ],
   "source": [
    "class vehicle:\n",
    "    def __init__(self,color,maxSpeed):\n",
    "        self.color = color\n",
    "        self.maxSpeed = maxSpeed\n",
    "\n",
    "class car(vehicle):\n",
    "    def __init__(self,color,maxSpeed,numGears,isConvertible):\n",
    "        \n",
    "        super().__init__(color,maxSpeed)\n",
    "        self.numGears = numGears\n",
    "        self.isConvertible = isConvertible\n",
    "        \n",
    "    def printCar(self):\n",
    "        print(\"Color: \",self.color)\n",
    "        print(\"MaxSpeed: \",self.maxSpeed)\n",
    "        print(\"Number of gears: \",self.numGears)\n",
    "        print(\"IsConvertible: \",self.isConvertible)\n",
    "        \n",
    "c = car(\"Black\",200,6,True)\n",
    "c.printCar()"
   ]
  },
  {
   "cell_type": "markdown",
   "metadata": {},
   "source": [
    "## Inheritanca and Private Members"
   ]
  },
  {
   "cell_type": "code",
   "execution_count": 4,
   "metadata": {},
   "outputs": [
    {
     "name": "stdout",
     "output_type": "stream",
     "text": [
      "Color:  Black\n",
      "MaxSpeed:  200\n",
      "Number of gears:  6\n",
      "IsConvertible:  True\n"
     ]
    }
   ],
   "source": [
    "class vehicle:\n",
    "    def __init__(self,color,maxSpeed):\n",
    "        self.color = color\n",
    "        self.__maxSpeed = maxSpeed\n",
    "        \n",
    "    def getMaxSpeed(self):\n",
    "        return self.__maxSpeed\n",
    "    \n",
    "    def setMaxSpeed(self,maxSpeed):\n",
    "        self.__maxSpeed = maxSpeed\n",
    "\n",
    "class car(vehicle):\n",
    "    def __init__(self,color,maxSpeed,numGears,isConvertible):\n",
    "        \n",
    "        super().__init__(color,maxSpeed)\n",
    "        self.numGears = numGears\n",
    "        self.isConvertible = isConvertible\n",
    "        \n",
    "    def printCar(self):\n",
    "        print(\"Color: \",self.color)\n",
    "        print(\"MaxSpeed: \",self.getMaxSpeed())\n",
    "        print(\"Number of gears: \",self.numGears)\n",
    "        print(\"IsConvertible: \",self.isConvertible)\n",
    "        \n",
    "c = car(\"Black\",200,6,True)\n",
    "c.printCar()"
   ]
  },
  {
   "cell_type": "markdown",
   "metadata": {},
   "source": [
    "## Inheritance - continue"
   ]
  },
  {
   "cell_type": "code",
   "execution_count": 5,
   "metadata": {},
   "outputs": [
    {
     "name": "stdout",
     "output_type": "stream",
     "text": [
      "Color:  Black\n",
      "MaxSpeed:  200\n",
      "Number of gears:  6\n",
      "IsConvertible:  True\n"
     ]
    }
   ],
   "source": [
    "class vehicle:\n",
    "    def __init__(self,color,maxSpeed):\n",
    "        self.color = color\n",
    "        self.__maxSpeed = maxSpeed\n",
    "        \n",
    "    def getMaxSpeed(self):\n",
    "        return self.__maxSpeed\n",
    "    \n",
    "    def setMaxSpeed(self,maxSpeed):\n",
    "        self.__maxSpeed = maxSpeed\n",
    "        \n",
    "    def print(self):\n",
    "        print(\"Color: \",self.color)\n",
    "        print(\"MaxSpeed: \",self.__maxSpeed)\n",
    "\n",
    "class car(vehicle):\n",
    "    def __init__(self,color,maxSpeed,numGears,isConvertible):\n",
    "        \n",
    "        super().__init__(color,maxSpeed)\n",
    "        self.numGears = numGears\n",
    "        self.isConvertible = isConvertible\n",
    "        \n",
    "    def printCar(self):\n",
    "        super().print()  # Here we can use self.print() also.  self and super are similar in this case\n",
    "        print(\"Number of gears: \",self.numGears)\n",
    "        print(\"IsConvertible: \",self.isConvertible)\n",
    "        \n",
    "c = car(\"Black\",200,6,True)\n",
    "c.printCar()"
   ]
  },
  {
   "cell_type": "markdown",
   "metadata": {},
   "source": [
    "## Polymorphism"
   ]
  },
  {
   "cell_type": "code",
   "execution_count": 7,
   "metadata": {},
   "outputs": [
    {
     "name": "stdout",
     "output_type": "stream",
     "text": [
      "Color:  Black\n",
      "MaxSpeed:  200\n",
      "Number of gears:  6\n",
      "IsConvertible:  True\n"
     ]
    }
   ],
   "source": [
    "class vehicle:\n",
    "    def __init__(self,color,maxSpeed):\n",
    "        self.color = color\n",
    "        self.__maxSpeed = maxSpeed\n",
    "        \n",
    "    def getMaxSpeed(self):\n",
    "        return self.__maxSpeed\n",
    "    \n",
    "    def setMaxSpeed(self,maxSpeed):\n",
    "        self.__maxSpeed = maxSpeed\n",
    "        \n",
    "    def print(self):\n",
    "        print(\"Color: \",self.color)\n",
    "        print(\"MaxSpeed: \",self.__maxSpeed)\n",
    "\n",
    "class car(vehicle):\n",
    "    def __init__(self,color,maxSpeed,numGears,isConvertible):\n",
    "        \n",
    "        super().__init__(color,maxSpeed)\n",
    "        self.numGears = numGears\n",
    "        self.isConvertible = isConvertible\n",
    "        \n",
    "    def print(self):       # Method Overriding\n",
    "        super().print()  # we can use super because it will use function of parent class. So there will be no recursion error.\n",
    "                        # But we cant use self here.\n",
    "#         self.print()  # Here we cant use self because it will be in recursion(depth exceeded) due to method overriding\n",
    "        print(\"Number of gears: \",self.numGears)\n",
    "        print(\"IsConvertible: \",self.isConvertible)\n",
    "        \n",
    "c = car(\"Black\",200,6,True)\n",
    "c.print()"
   ]
  },
  {
   "cell_type": "markdown",
   "metadata": {},
   "source": [
    "## Object Class"
   ]
  },
  {
   "cell_type": "code",
   "execution_count": 8,
   "metadata": {},
   "outputs": [
    {
     "name": "stdout",
     "output_type": "stream",
     "text": [
      "This is circle class which takes radius as an argument\n"
     ]
    }
   ],
   "source": [
    "class Circle(object):\n",
    "    def __init__(self,radius):\n",
    "        self.radius = radius\n",
    "        \n",
    "    def __str__(self):\n",
    "        return \"This is circle class which takes radius as an argument\"\n",
    "    \n",
    "c = Circle(3)\n",
    "print(c)"
   ]
  },
  {
   "cell_type": "markdown",
   "metadata": {},
   "source": [
    "## Multiple Inheritance"
   ]
  },
  {
   "cell_type": "code",
   "execution_count": 13,
   "metadata": {},
   "outputs": [
    {
     "name": "stdout",
     "output_type": "stream",
     "text": [
      "Name of child is :  ABC\n",
      "\n",
      "Print of Mother Called\n"
     ]
    }
   ],
   "source": [
    "class Mother:\n",
    "    def __init__(self):\n",
    "        self.name = \"ABC\"\n",
    "    def print(self):\n",
    "        print(\"Print of Mother Called\")\n",
    "\n",
    "class Father:\n",
    "    def __init__(self):\n",
    "        self.name = \"XYZ\"\n",
    "    def print(self):\n",
    "        print(\"Print of Father Called\")\n",
    "    \n",
    "class Child(Mother,Father):\n",
    "    def __init__(self):\n",
    "        super().__init__()\n",
    "    def printChild(self):\n",
    "        print(\"Name of child is : \",self.name)\n",
    "        \n",
    "c = Child()\n",
    "c.printChild()\n",
    "print()\n",
    "c.print()"
   ]
  },
  {
   "cell_type": "markdown",
   "metadata": {},
   "source": [
    "## Method Resolution Order (MRO)"
   ]
  },
  {
   "cell_type": "code",
   "execution_count": 14,
   "metadata": {},
   "outputs": [
    {
     "name": "stdout",
     "output_type": "stream",
     "text": [
      "Print of Mother Called\n",
      "[<class '__main__.Child'>, <class '__main__.Mother'>, <class '__main__.Father'>, <class 'object'>]\n"
     ]
    }
   ],
   "source": [
    "class Mother:\n",
    "    def __init__(self):\n",
    "        self.name = \"ABC\"\n",
    "    def print(self):\n",
    "        print(\"Print of Mother Called\")\n",
    "\n",
    "class Father:\n",
    "    def __init__(self):\n",
    "        self.name = \"XYZ\"\n",
    "    def print(self):\n",
    "        print(\"Print of Father Called\")\n",
    "    \n",
    "class Child(Mother,Father):\n",
    "    def __init__(self):\n",
    "        super().__init__()\n",
    "    def printChild(self):\n",
    "        print(\"Name of child is : \",self.name)\n",
    "        \n",
    "c = Child()\n",
    "c.print()\n",
    "print(Child.mro())"
   ]
  },
  {
   "cell_type": "markdown",
   "metadata": {},
   "source": [
    "## Operator Overloading"
   ]
  },
  {
   "cell_type": "code",
   "execution_count": 18,
   "metadata": {},
   "outputs": [
    {
     "name": "stdout",
     "output_type": "stream",
     "text": [
      "This point is at (4, 6)\n",
      "True\n"
     ]
    }
   ],
   "source": [
    "import math\n",
    "\n",
    "class Point:\n",
    "    def __init__(self,x,y):\n",
    "        self.__x = x\n",
    "        self.__y = y\n",
    "        \n",
    "    def __str__(self):\n",
    "        return \"This point is at (\" + str(self.__x) + \", \" + str(self.__y) + \")\"\n",
    "    \n",
    "    def __add__(self,point_object):\n",
    "        return Point(self.__x + point_object.__x, self.__y + point_object.__y)\n",
    "    \n",
    "    def __lt__(self,point_object):\n",
    "        return math.sqrt(self.__x**2 + self.__y**2) <  math.sqrt(point_object.__x**2 + point_object.__y**2)\n",
    "    \n",
    "p1 = Point(1,2)\n",
    "p2 = Point(3,4)\n",
    "p3 = p1 + p2\n",
    "print(p3)\n",
    "print(p1<p2)"
   ]
  },
  {
   "cell_type": "markdown",
   "metadata": {},
   "source": [
    "# OOPS__"
   ]
  },
  {
   "cell_type": "markdown",
   "metadata": {},
   "source": [
    "## Abstract Classes"
   ]
  },
  {
   "cell_type": "code",
   "execution_count": 19,
   "metadata": {},
   "outputs": [
    {
     "name": "stdout",
     "output_type": "stream",
     "text": [
      "car created\n",
      "bus created\n"
     ]
    }
   ],
   "source": [
    "from abc import ABC,abstractmethod\n",
    "\n",
    "class automobile(ABC):\n",
    "    def __init__(self):\n",
    "        print(\"Automobile created\")\n",
    "    \n",
    "    @abstractmethod\n",
    "    def start(self):\n",
    "        pass\n",
    "    @abstractmethod\n",
    "    def stop(self):\n",
    "        pass\n",
    "    @abstractmethod\n",
    "    def drive(self):\n",
    "        pass\n",
    "    \n",
    "class car(automobile):\n",
    "    def __init__(self):\n",
    "        print(\"car created\")\n",
    "        \n",
    "    def start(self):\n",
    "        pass\n",
    "    def stop(self):\n",
    "        pass\n",
    "    def drive(self):\n",
    "        pass\n",
    "    \n",
    "class bus(automobile):\n",
    "    def __init__(self):\n",
    "        print(\"bus created\")\n",
    "        \n",
    "    def start(self):\n",
    "        pass\n",
    "    def stop(self):\n",
    "        pass\n",
    "    def drive(self):\n",
    "        pass\n",
    "\n",
    "c = car()\n",
    "b = bus()"
   ]
  },
  {
   "cell_type": "code",
   "execution_count": 22,
   "metadata": {},
   "outputs": [
    {
     "name": "stdout",
     "output_type": "stream",
     "text": [
      "Automobile created\n",
      "Automobile created\n",
      "4\n"
     ]
    }
   ],
   "source": [
    "from abc import ABC,abstractmethod\n",
    "\n",
    "class automobile(ABC):\n",
    "    def __init__(self,no_of_wheels):\n",
    "        self.no_of_wheels = no_of_wheels\n",
    "        print(\"Automobile created\")\n",
    "    \n",
    "    @abstractmethod\n",
    "    def start(self):\n",
    "        pass\n",
    "    @abstractmethod\n",
    "    def stop(self):\n",
    "        pass\n",
    "    @abstractmethod\n",
    "    def drive(self):\n",
    "        pass\n",
    "    @abstractmethod\n",
    "    def get_no_of_wheels(self):\n",
    "        return self.no_of_wheels\n",
    "    \n",
    "class car(automobile):\n",
    "        \n",
    "    def start(self):\n",
    "        pass\n",
    "    def stop(self):\n",
    "        pass\n",
    "    def drive(self):\n",
    "        pass\n",
    "    def get_no_of_wheels(self):\n",
    "        return super().get_no_of_wheels()\n",
    "    \n",
    "class bus(automobile):\n",
    "        \n",
    "    def start(self):\n",
    "        pass\n",
    "    def stop(self):\n",
    "        pass\n",
    "    def drive(self):\n",
    "        pass\n",
    "    def get_no_of_wheels(self):\n",
    "        return super().get_no_of_wheels()\n",
    "c = car(4)\n",
    "b = bus(8)\n",
    "print(c.get_no_of_wheels())"
   ]
  },
  {
   "cell_type": "markdown",
   "metadata": {},
   "source": [
    "## Intro to Exception Handling"
   ]
  },
  {
   "cell_type": "code",
   "execution_count": 2,
   "metadata": {},
   "outputs": [
    {
     "name": "stdout",
     "output_type": "stream",
     "text": [
      "Enter 1st number: 5\n",
      "Enter 2nd number: abc\n",
      "n1 and n2 should be integer\n",
      "Enter 1st number: 5\n",
      "Enter 2nd number: dccd\n",
      "n1 and n2 should be integer\n",
      "Enter 1st number: 5\n",
      "Enter 2nd number: 2\n",
      "2.5\n"
     ]
    }
   ],
   "source": [
    "while True:\n",
    "    try:\n",
    "        n1 = int(input(\"Enter 1st number: \"))\n",
    "        n2 = int(input(\"Enter 2nd number: \"))\n",
    "        print(n1/n2)\n",
    "        break;\n",
    "    except ValueError:\n",
    "        print(\"n1 and n2 should be integer\")"
   ]
  },
  {
   "cell_type": "markdown",
   "metadata": {},
   "source": [
    "## Handling Multiple Exceptions"
   ]
  },
  {
   "cell_type": "code",
   "execution_count": 6,
   "metadata": {},
   "outputs": [
    {
     "name": "stdout",
     "output_type": "stream",
     "text": [
      "Enter numerator: 5\n",
      "Enter denominator: 0\n",
      "Denominator should not be zero.\n",
      "Enter numerator: 5\n",
      "Enter denominator: abc\n",
      "numerator and denominator should be integer.\n",
      "Enter numerator: 5\n",
      "Enter denominator: 2\n",
      "2.5\n"
     ]
    }
   ],
   "source": [
    "while True:\n",
    "    try:\n",
    "        num = int(input(\"Enter numerator: \"))\n",
    "        den = int(input(\"Enter denominator: \"))\n",
    "        print(num/den)\n",
    "        break;\n",
    "    except ValueError:\n",
    "        print(\"numerator and denominator should be integer.\")\n",
    "    except ZeroDivisionError:\n",
    "        print(\"Denominator should not be zero.\")"
   ]
  },
  {
   "cell_type": "markdown",
   "metadata": {},
   "source": [
    "## Custom Exceptions"
   ]
  },
  {
   "cell_type": "code",
   "execution_count": 7,
   "metadata": {},
   "outputs": [
    {
     "name": "stdout",
     "output_type": "stream",
     "text": [
      "Enter numerator: 5\n",
      "Enter denominator: 0\n",
      "Denominator should not be zero.\n",
      "Enter numerator: 5\n",
      "Enter denominator: 0\n",
      "Denominator should not be zero.\n",
      "Enter numerator: 4\n",
      "Enter denominator: 2\n",
      "2.0\n"
     ]
    }
   ],
   "source": [
    "class ZeroDenominatorError(Exception):\n",
    "    pass\n",
    "\n",
    "while True:\n",
    "    try:\n",
    "        num = int(input(\"Enter numerator: \"))\n",
    "        den = int(input(\"Enter denominator: \"))\n",
    "        if den == 0:\n",
    "            raise ZeroDenominatorError(\"Denominator should not be zero.\")\n",
    "        print(num/den)\n",
    "        break;\n",
    "    except ValueError:\n",
    "        print(\"numerator and denominator should be integer.\")\n",
    "    except ZeroDivisionError:\n",
    "        print(\"Denominator should not be zero.\")\n",
    "    except ZeroDenominatorError:\n",
    "        print(\"Denominator should not be zero.\")"
   ]
  },
  {
   "cell_type": "markdown",
   "metadata": {},
   "source": [
    "## Exception Functionality"
   ]
  },
  {
   "cell_type": "code",
   "execution_count": 9,
   "metadata": {},
   "outputs": [
    {
     "name": "stdout",
     "output_type": "stream",
     "text": [
      "Enter numerator: 5\n",
      "Enter denominator: 0\n",
      "ZeroDivisionError raised.\n",
      "Enter numerator: 4\n",
      "Enter denominator: 2\n",
      "2.0\n"
     ]
    }
   ],
   "source": [
    "class ZeroDenominatorError(ZeroDivisionError):\n",
    "    pass\n",
    "\n",
    "while True:\n",
    "    try:\n",
    "        num = int(input(\"Enter numerator: \"))\n",
    "        den = int(input(\"Enter denominator: \"))\n",
    "        if den == 0:\n",
    "            raise ZeroDenominatorError(\"Denominator should not be zero.\")\n",
    "        print(num/den)\n",
    "        break;\n",
    "    except ValueError:\n",
    "        print(\"numerator and denominator should be integer.\")\n",
    "    except ZeroDivisionError:\n",
    "        print(\"ZeroDivisionError raised.\")\n",
    "    except ZeroDenominatorError:\n",
    "        print(\"Denominator should not be zero.\")"
   ]
  },
  {
   "cell_type": "code",
   "execution_count": 10,
   "metadata": {},
   "outputs": [
    {
     "name": "stdout",
     "output_type": "stream",
     "text": [
      "Enter numerator: 5\n",
      "Enter denominator: 0\n",
      "Denominator should not be zero.\n",
      "Enter numerator: 4\n",
      "Enter denominator: 2\n",
      "2.0\n"
     ]
    }
   ],
   "source": [
    "class ZeroDenominatorError(ZeroDivisionError):\n",
    "    pass\n",
    "\n",
    "while True:\n",
    "    try:\n",
    "        num = int(input(\"Enter numerator: \"))\n",
    "        den = int(input(\"Enter denominator: \"))\n",
    "        if den == 0:\n",
    "            raise ZeroDenominatorError(\"Denominator should not be zero.\")\n",
    "        print(num/den)\n",
    "        break;\n",
    "    except ValueError:\n",
    "        print(\"numerator and denominator should be integer.\")\n",
    "    except ZeroDenominatorError:\n",
    "        print(\"Denominator should not be zero.\")\n",
    "    except ZeroDivisionError:\n",
    "        print(\"ZeroDivisionError raised.\")"
   ]
  },
  {
   "cell_type": "markdown",
   "metadata": {},
   "source": [
    "## Else and Finally"
   ]
  },
  {
   "cell_type": "code",
   "execution_count": 11,
   "metadata": {},
   "outputs": [
    {
     "name": "stdout",
     "output_type": "stream",
     "text": [
      "Enter numerator: 5\n",
      "Enter denominator: 0\n",
      "Denominator should not be zero.\n",
      "Exception may or may not be raised.\n",
      "Enter numerator: 3\n",
      "Enter denominator: 0\n",
      "Denominator should not be zero.\n",
      "Exception may or may not be raised.\n",
      "Enter numerator: 6\n",
      "Enter denominator: 3\n",
      "2.0\n",
      "Exception may or may not be raised.\n"
     ]
    }
   ],
   "source": [
    "class ZeroDenominatorError(ZeroDivisionError):\n",
    "    pass\n",
    "\n",
    "while True:\n",
    "    try:\n",
    "        num = int(input(\"Enter numerator: \"))\n",
    "        den = int(input(\"Enter denominator: \"))\n",
    "        if den == 0:\n",
    "            raise ZeroDenominatorError(\"Denominator should not be zero.\")\n",
    "        print(num/den)\n",
    "        break;\n",
    "    except ValueError:\n",
    "        print(\"numerator and denominator should be integer.\")\n",
    "    except ZeroDenominatorError:\n",
    "        print(\"Denominator should not be zero.\")\n",
    "    except ZeroDivisionError:\n",
    "        print(\"ZeroDivisionError raised.\")\n",
    "        \n",
    "    else:\n",
    "        print(num/den)\n",
    "        break;\n",
    "    finally:\n",
    "        print(\"Exception may or may not be raised.\")"
   ]
  },
  {
   "cell_type": "code",
   "execution_count": null,
   "metadata": {},
   "outputs": [],
   "source": []
  }
 ],
 "metadata": {
  "kernelspec": {
   "display_name": "Python 3",
   "language": "python",
   "name": "python3"
  },
  "language_info": {
   "codemirror_mode": {
    "name": "ipython",
    "version": 3
   },
   "file_extension": ".py",
   "mimetype": "text/x-python",
   "name": "python",
   "nbconvert_exporter": "python",
   "pygments_lexer": "ipython3",
   "version": "3.7.6"
  }
 },
 "nbformat": 4,
 "nbformat_minor": 4
}
