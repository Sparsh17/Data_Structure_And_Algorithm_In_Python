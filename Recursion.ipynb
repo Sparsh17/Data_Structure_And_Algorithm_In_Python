{
 "cells": [
  {
   "cell_type": "markdown",
   "metadata": {},
   "source": [
    "## Factorial"
   ]
  },
  {
   "cell_type": "code",
   "execution_count": 28,
   "metadata": {},
   "outputs": [
    {
     "name": "stdout",
     "output_type": "stream",
     "text": [
      "100\n",
      "93326215443944152681699238856266700490715968264381621468592963895217599993229915608941463976156518286253697920827223758251185210916864000000000000000000000000\n"
     ]
    }
   ],
   "source": [
    "def fact(n):\n",
    "    if(n==0):\n",
    "        return 1\n",
    "    return n * fact(n-1)\n",
    "\n",
    "n = int(input())\n",
    "print(fact(n))"
   ]
  },
  {
   "cell_type": "markdown",
   "metadata": {},
   "source": [
    "## Sum of n numbers"
   ]
  },
  {
   "cell_type": "code",
   "execution_count": 5,
   "metadata": {},
   "outputs": [
    {
     "name": "stdout",
     "output_type": "stream",
     "text": [
      "5\n",
      "15\n"
     ]
    }
   ],
   "source": [
    "def sum_n(n):\n",
    "    if n==0:\n",
    "        return 0\n",
    "    return n + sum_n(n-1)\n",
    "\n",
    "n = int(input())\n",
    "print(sum_n(5))"
   ]
  },
  {
   "cell_type": "markdown",
   "metadata": {},
   "source": [
    "## Power of a Number"
   ]
  },
  {
   "cell_type": "code",
   "execution_count": 6,
   "metadata": {},
   "outputs": [
    {
     "name": "stdout",
     "output_type": "stream",
     "text": [
      "3 4\n",
      "81\n"
     ]
    }
   ],
   "source": [
    "def pow(x,n):\n",
    "    if n==0:\n",
    "        return 1\n",
    "    return x * pow(x,n-1)\n",
    "\n",
    "a = [int(a) for a in input().split()]\n",
    "x = a[0]\n",
    "n = a[1]\n",
    "print(pow(x,n))"
   ]
  },
  {
   "cell_type": "markdown",
   "metadata": {},
   "source": [
    "## First N natural numbers"
   ]
  },
  {
   "cell_type": "code",
   "execution_count": 8,
   "metadata": {},
   "outputs": [
    {
     "name": "stdout",
     "output_type": "stream",
     "text": [
      "5\n",
      "1\n",
      "2\n",
      "3\n",
      "4\n",
      "5\n"
     ]
    }
   ],
   "source": [
    "def print_1_to_n(n):\n",
    "    if n==0:\n",
    "        return\n",
    "    print_1_to_n(n-1)\n",
    "    print(n)\n",
    "    return\n",
    "n = int(input())\n",
    "print_1_to_n(n)"
   ]
  },
  {
   "cell_type": "code",
   "execution_count": 14,
   "metadata": {},
   "outputs": [
    {
     "name": "stdout",
     "output_type": "stream",
     "text": [
      "5\n",
      "5\n",
      "4\n",
      "3\n",
      "2\n",
      "1\n"
     ]
    }
   ],
   "source": [
    "def print_n_to_1(n):\n",
    "    if n==0:\n",
    "        return\n",
    "    print(n)\n",
    "    print_n_to_1(n-1)\n",
    "    return\n",
    "n = int(input())\n",
    "print_n_to_1(n)"
   ]
  },
  {
   "cell_type": "markdown",
   "metadata": {},
   "source": [
    "## Fibonacci"
   ]
  },
  {
   "cell_type": "code",
   "execution_count": 21,
   "metadata": {},
   "outputs": [
    {
     "name": "stdout",
     "output_type": "stream",
     "text": [
      "4\n"
     ]
    },
    {
     "data": {
      "text/plain": [
       "3"
      ]
     },
     "execution_count": 21,
     "metadata": {},
     "output_type": "execute_result"
    }
   ],
   "source": [
    "def fib(n):\n",
    "    if n==1 or n==2:\n",
    "        return 1\n",
    "    fib_1 = fib(n-1)\n",
    "    fib_2 = fib(n-2)\n",
    "    result = fib_1 + fib_2\n",
    "    return result\n",
    "n = int(input())\n",
    "fib(n)"
   ]
  },
  {
   "cell_type": "markdown",
   "metadata": {},
   "source": [
    "## Check list is sorted or not?"
   ]
  },
  {
   "cell_type": "code",
   "execution_count": 31,
   "metadata": {},
   "outputs": [
    {
     "data": {
      "text/plain": [
       "True"
      ]
     },
     "execution_count": 31,
     "metadata": {},
     "output_type": "execute_result"
    }
   ],
   "source": [
    "def isSorted(a):\n",
    "    l = len(a)\n",
    "    if l==0 or l==1:\n",
    "        return True\n",
    "    if a[0] > a[1]:\n",
    "        return False\n",
    "    l1 = a[1:]\n",
    "    isListSorted = isSorted(l1)\n",
    "    \n",
    "    if isListSorted:\n",
    "        return True\n",
    "    else:\n",
    "        return False\n",
    "    \n",
    "a = [1,2,3,4,5,6]\n",
    "isSorted(a)"
   ]
  },
  {
   "cell_type": "markdown",
   "metadata": {},
   "source": [
    "## Sum of array"
   ]
  },
  {
   "cell_type": "code",
   "execution_count": 32,
   "metadata": {},
   "outputs": [
    {
     "name": "stdout",
     "output_type": "stream",
     "text": [
      "3\n",
      "9 8 10\n",
      "27\n"
     ]
    }
   ],
   "source": [
    "def sumArray(arr):\n",
    "    # Please add your code here\n",
    "    n=len(arr)\n",
    "    if n==1:\n",
    "        return arr[0]\n",
    "    smallAns = sumArray(arr[:n-1])\n",
    "    return smallAns + arr[n-1]\n",
    "\n",
    "# Main\n",
    "from sys import setrecursionlimit\n",
    "setrecursionlimit(11000)\n",
    "n=int(input())\n",
    "arr=list(int(i) for i in input().strip().split(' '))\n",
    "print(sumArray(arr))\n"
   ]
  },
  {
   "cell_type": "markdown",
   "metadata": {},
   "source": [
    "## Check Number in array"
   ]
  },
  {
   "cell_type": "code",
   "execution_count": 33,
   "metadata": {},
   "outputs": [
    {
     "name": "stdout",
     "output_type": "stream",
     "text": [
      "3\n",
      "9 8 10\n",
      "8\n",
      "true\n"
     ]
    }
   ],
   "source": [
    "def checkNumber(arr, x):\n",
    "    # Please add your code here\n",
    "    l=len(arr)\n",
    "    if l==1:\n",
    "        return x==arr[0]\n",
    "    smallAns = checkNumber(arr[:l-1],x)\n",
    "    return smallAns or (x==arr[l-1])\n",
    "\n",
    "# Main\n",
    "from sys import setrecursionlimit\n",
    "setrecursionlimit(11000)\n",
    "n=int(input())\n",
    "arr=list(int(i) for i in input().strip().split(' '))\n",
    "x=int(input())\n",
    "if checkNumber(arr, x):\n",
    "    print('true')\n",
    "else:\n",
    "    print('false')"
   ]
  },
  {
   "cell_type": "markdown",
   "metadata": {},
   "source": [
    "## Optimize code for list is sorted or not?"
   ]
  },
  {
   "cell_type": "code",
   "execution_count": 37,
   "metadata": {},
   "outputs": [
    {
     "data": {
      "text/plain": [
       "True"
      ]
     },
     "execution_count": 37,
     "metadata": {},
     "output_type": "execute_result"
    }
   ],
   "source": [
    "def isSorted(a,s):\n",
    "    l = len(a)\n",
    "    if s==l-1 or s==l:\n",
    "        return True\n",
    "    if(a[s]>a[s+1]):\n",
    "        return False\n",
    "    isSmallerList = isSorted(a,s+1)\n",
    "    return isSmallerList\n",
    "\n",
    "a = [1,2,3,4,5,6]\n",
    "isSorted(a,0)"
   ]
  },
  {
   "cell_type": "markdown",
   "metadata": {},
   "source": [
    "## First Index Of Number"
   ]
  },
  {
   "cell_type": "code",
   "execution_count": 45,
   "metadata": {},
   "outputs": [
    {
     "data": {
      "text/plain": [
       "1"
      ]
     },
     "execution_count": 45,
     "metadata": {},
     "output_type": "execute_result"
    }
   ],
   "source": [
    "# def firstIndex(arr,x):\n",
    "#     l = len(arr)\n",
    "#     if l == 0:\n",
    "#         return -1\n",
    "#     if arr[0] == x:\n",
    "#         return 0\n",
    "#     smallerList = arr[1:]\n",
    "#     smallerListOutput = firstIndex(smallerList,x)\n",
    "#     if smallerListOutput == -1:\n",
    "#         return -1\n",
    "#     else:\n",
    "#         return smallerListOutput + 1\n",
    "\n",
    "def firstIndex(arr, x, s):\n",
    "    # Please add your code here\n",
    "    l = len(arr)\n",
    "    if s == l:\n",
    "        return -1\n",
    "    if arr[s] == x:\n",
    "        return s\n",
    "    return firstIndex(arr,x,s+1)\n",
    "\n",
    "a = [9,8,10,8]\n",
    "x = 8\n",
    "firstIndex(a,x,0)\n"
   ]
  },
  {
   "cell_type": "markdown",
   "metadata": {},
   "source": [
    "## Last Index of Number"
   ]
  },
  {
   "cell_type": "code",
   "execution_count": 8,
   "metadata": {},
   "outputs": [
    {
     "data": {
      "text/plain": [
       "3"
      ]
     },
     "execution_count": 8,
     "metadata": {},
     "output_type": "execute_result"
    }
   ],
   "source": [
    "# def lastIndex(a,x):\n",
    "#     l = len(a)\n",
    "#     if l == 0:\n",
    "#         return -1\n",
    "#     smallerList = a[1:]\n",
    "#     smallerListOutput = lastIndex(smallerList,x)\n",
    "#     if smallerListOutput != -1:\n",
    "#         return smallerListOutput + 1\n",
    "#     else:\n",
    "#         if a[0] == x:\n",
    "#             return 0\n",
    "#         else:\n",
    "#             return -1\n",
    "        \n",
    "def lastIndex(a,x,s):\n",
    "    l = len(a)\n",
    "    if s == l:\n",
    "        return -1\n",
    "    smallerListOutput = lastIndex(a,x,s+1)\n",
    "    if smallerListOutput != -1:\n",
    "        return smallerListOutput\n",
    "    else:\n",
    "        if a[s]== x:\n",
    "            return s\n",
    "        else:\n",
    "            return -1\n",
    "        \n",
    "    \n",
    "    \n",
    "a = [9,8,10,8]\n",
    "x = 8\n",
    "lastIndex(a,x,0)"
   ]
  },
  {
   "cell_type": "markdown",
   "metadata": {},
   "source": [
    "## Recursion with strings (Replace Char)"
   ]
  },
  {
   "cell_type": "code",
   "execution_count": 9,
   "metadata": {},
   "outputs": [
    {
     "name": "stdout",
     "output_type": "stream",
     "text": [
      "xxbfsdd\n"
     ]
    }
   ],
   "source": [
    "def replaceChar(s,a,b):\n",
    "    if len(s)==0:\n",
    "        return s\n",
    "    smallOutput = replaceChar(s[1:],a,b)\n",
    "    if s[0] == a:\n",
    "        return b + smallOutput\n",
    "    else:\n",
    "        return s[0] + smallOutput\n",
    "    \n",
    "print(replaceChar(\"ccbfsdd\",\"c\",\"x\"))"
   ]
  },
  {
   "cell_type": "markdown",
   "metadata": {},
   "source": [
    "## Remove X from string"
   ]
  },
  {
   "cell_type": "code",
   "execution_count": 10,
   "metadata": {},
   "outputs": [
    {
     "name": "stdout",
     "output_type": "stream",
     "text": [
      "xabxcxd\n",
      "abcd\n"
     ]
    }
   ],
   "source": [
    "def removeX(string): \n",
    "    if len(string) == 0:\n",
    "        return string\n",
    "    smallOutput = removeX(string[1:])\n",
    "    if string[0] == \"x\":\n",
    "        return smallOutput\n",
    "    else:\n",
    "        return string[0] + smallOutput\n",
    "\n",
    "# Main\n",
    "string = input()\n",
    "print(removeX(string))"
   ]
  },
  {
   "cell_type": "markdown",
   "metadata": {},
   "source": [
    "## Replace pi"
   ]
  },
  {
   "cell_type": "code",
   "execution_count": 12,
   "metadata": {},
   "outputs": [
    {
     "name": "stdout",
     "output_type": "stream",
     "text": [
      "ppidspapip\n",
      "p3.14dspa3.14p\n"
     ]
    }
   ],
   "source": [
    "def replacePi(s):\n",
    "    if len(s) == 0 or len(s) == 1:\n",
    "        return s\n",
    "    if s[0] == \"p\" and s[1] == \"i\":\n",
    "        smallOutput = replacePi(s[2:])\n",
    "        return \"3.14\" + smallOutput\n",
    "    else:\n",
    "        smallOutput = replacePi(s[1:])\n",
    "        return s[0] + smallOutput\n",
    "\n",
    "s = input()\n",
    "print(replacePi(s))"
   ]
  },
  {
   "cell_type": "markdown",
   "metadata": {},
   "source": [
    "## Remove Duplicates"
   ]
  },
  {
   "cell_type": "code",
   "execution_count": 13,
   "metadata": {},
   "outputs": [
    {
     "name": "stdout",
     "output_type": "stream",
     "text": [
      "abcdsbcahdeeii\n",
      "abcdsbcahdei\n"
     ]
    }
   ],
   "source": [
    "\n",
    "# Problem ID 91, removeConsecutiveDuplicates\n",
    "def removeConsecutiveDuplicates(string):\n",
    "    # Please add your code here\n",
    "\n",
    "    if len(string) == 1:\n",
    "        return string\n",
    "    \n",
    "    if string[0] == string[1]:\n",
    "        smallOutput = removeConsecutiveDuplicates(string[1:])\n",
    "        return smallOutput   \n",
    "    \n",
    "    else:\n",
    "        nextOutput = removeConsecutiveDuplicates(string[1:])\n",
    "        return string[0] + nextOutput\n",
    "\n",
    "# Main\n",
    "string = input().strip()\n",
    "print(removeConsecutiveDuplicates(string))"
   ]
  },
  {
   "cell_type": "markdown",
   "metadata": {},
   "source": [
    "## Binary Search"
   ]
  },
  {
   "cell_type": "code",
   "execution_count": 16,
   "metadata": {},
   "outputs": [
    {
     "name": "stdout",
     "output_type": "stream",
     "text": [
      "4\n"
     ]
    }
   ],
   "source": [
    "def binarySearch(a,x,si,ei):\n",
    "    if si>ei:\n",
    "        return -1\n",
    "    mid = (si+ei)//2\n",
    "    if a[mid] == x:\n",
    "        return mid\n",
    "    elif a[mid] > x:\n",
    "        return binarySearch(a,x,si,mid-1)\n",
    "    else:\n",
    "        return binarySearch(a,x,mid+1,ei)\n",
    "\n",
    "print(binarySearch([1,2,15,45,48,65,68,74,98],48,0,8))"
   ]
  },
  {
   "cell_type": "markdown",
   "metadata": {},
   "source": [
    "# Merge Sort"
   ]
  },
  {
   "cell_type": "code",
   "execution_count": 23,
   "metadata": {},
   "outputs": [
    {
     "name": "stdout",
     "output_type": "stream",
     "text": [
      "[4, 5, 6, 8, 9, 10, 14, 15]\n"
     ]
    }
   ],
   "source": [
    "def merge(a1,a2,a):\n",
    "    i=0\n",
    "    j=0\n",
    "    k=0\n",
    "    while i<len(a1) and j<len(a2):\n",
    "        if a1[i] < a2[j]:\n",
    "            a[k] = a1[i]\n",
    "            i += 1\n",
    "            k += 1\n",
    "        else:\n",
    "            a[k] = a2[j]\n",
    "            j += 1\n",
    "            k += 1\n",
    "    while i<len(a1):\n",
    "        a[k] = a1[i]\n",
    "        i += 1\n",
    "        k += 1\n",
    "    while j<len(a2):\n",
    "        a[k] = a2[j]\n",
    "        j += 1\n",
    "        k += 1\n",
    "\n",
    "\n",
    "        \n",
    "def merge_sort(a):\n",
    "    if len(a) == 0 or len(a) == 1:\n",
    "        return\n",
    "    mid = len(a) // 2\n",
    "    a1 = a[0:mid]\n",
    "    a2 = a[mid:]\n",
    "    \n",
    "    merge_sort(a1)\n",
    "    merge_sort(a2)\n",
    "    \n",
    "    merge(a1,a2,a)\n",
    "    \n",
    "\n",
    "a = [5,4,9,6,8,10,15,14]\n",
    "merge_sort(a)\n",
    "print(a)"
   ]
  },
  {
   "cell_type": "code",
   "execution_count": null,
   "metadata": {},
   "outputs": [],
   "source": []
  }
 ],
 "metadata": {
  "kernelspec": {
   "display_name": "Python 3",
   "language": "python",
   "name": "python3"
  },
  "language_info": {
   "codemirror_mode": {
    "name": "ipython",
    "version": 3
   },
   "file_extension": ".py",
   "mimetype": "text/x-python",
   "name": "python",
   "nbconvert_exporter": "python",
   "pygments_lexer": "ipython3",
   "version": "3.7.6"
  }
 },
 "nbformat": 4,
 "nbformat_minor": 4
}
