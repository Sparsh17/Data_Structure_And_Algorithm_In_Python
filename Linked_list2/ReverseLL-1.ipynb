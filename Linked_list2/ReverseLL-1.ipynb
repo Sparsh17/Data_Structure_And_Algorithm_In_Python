{
 "cells": [
  {
   "cell_type": "code",
   "execution_count": 4,
   "metadata": {},
   "outputs": [
    {
     "name": "stdout",
     "output_type": "stream",
     "text": [
      "1 2 3 4 5\n",
      "1->2->3->4->5->None\n",
      "5->4->3->2->1->None\n"
     ]
    }
   ],
   "source": [
    "from sys import stdin\n",
    "\n",
    "#Following is the Node class already written for the Linked List\n",
    "class Node : \n",
    "    def __init__(self, data) :\n",
    "        self.data = data\n",
    "        self.next = None\n",
    "        \n",
    "\n",
    "def reverse(head):\n",
    "    if head is None or head.next is None:\n",
    "        return head\n",
    "    smallHead = reverse(head.next)\n",
    "    curr = smallHead\n",
    "    \n",
    "    while curr.next is not None:\n",
    "        curr = curr.next\n",
    "    curr.next = head\n",
    "    head.next = None\n",
    "    return smallHead\n",
    "\n",
    "\n",
    "def takeInput() :\n",
    "    inputList = [int(ele) for ele in input().split()]\n",
    "    head = None\n",
    "    tail = None\n",
    "    \n",
    "    for currData  in inputList:\n",
    "        \n",
    "        if currData == -1:\n",
    "            break;\n",
    "        \n",
    "        newNode = Node(currData)\n",
    "        \n",
    "        if head is None:\n",
    "            head = newNode\n",
    "            tail = newNode\n",
    "        else:\n",
    "            tail.next = newNode\n",
    "            tail = newNode\n",
    "            \n",
    "    return head\n",
    "\n",
    "\n",
    "\n",
    "def printLinkedList(head) :\n",
    "\n",
    "    while head is not None:\n",
    "        print(str(head.data) + \"->\",end=\"\")\n",
    "        head = head.next\n",
    "    print(\"None\")\n",
    "    return\n",
    "\n",
    "\n",
    "head = takeInput()\n",
    "printLinkedList(head)\n",
    "head = reverse(head)\n",
    "printLinkedList(head)\n"
   ]
  },
  {
   "cell_type": "code",
   "execution_count": null,
   "metadata": {},
   "outputs": [],
   "source": []
  }
 ],
 "metadata": {
  "kernelspec": {
   "display_name": "Python 3",
   "language": "python",
   "name": "python3"
  },
  "language_info": {
   "codemirror_mode": {
    "name": "ipython",
    "version": 3
   },
   "file_extension": ".py",
   "mimetype": "text/x-python",
   "name": "python",
   "nbconvert_exporter": "python",
   "pygments_lexer": "ipython3",
   "version": "3.7.6"
  }
 },
 "nbformat": 4,
 "nbformat_minor": 4
}
