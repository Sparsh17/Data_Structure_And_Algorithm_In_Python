{
 "cells": [
  {
   "cell_type": "code",
   "execution_count": 1,
   "metadata": {},
   "outputs": [
    {
     "name": "stdout",
     "output_type": "stream",
     "text": [
      "0 1 2 3 4 5 6\n",
      "2\n",
      "5\n",
      "0->1->2->3->4->5->6->None\n",
      "0->1->5->3->4->2->6->None\n"
     ]
    }
   ],
   "source": [
    "from sys import stdin\n",
    "\n",
    "#Following is the Node class already written for the Linked List\n",
    "class Node : \n",
    "    def __init__(self, data) :\n",
    "        self.data = data\n",
    "        self.next = None\n",
    "        \n",
    "def swapNodes(head, i, j) :\n",
    "\t#Your code goes here\n",
    "    ptr1 = head\n",
    "    ptr2 = head\n",
    "    \n",
    "    cnt1 = 0\n",
    "    cnt2 = 0\n",
    "    \n",
    "    while cnt1 < i:\n",
    "        cnt1 += 1\n",
    "        ptr1 = ptr1.next\n",
    "        \n",
    "    while cnt2 < j:\n",
    "        cnt2 += 1\n",
    "        ptr2 = ptr2.next\n",
    "        \n",
    "    curr1 = ptr1\n",
    "    curr2 = ptr2\n",
    "    \n",
    "    data1 = curr1.data\n",
    "    data2 = curr2.data\n",
    "    \n",
    "    curr1.data = data2\n",
    "    curr2.data = data1\n",
    "    \n",
    "    return head\n",
    "    \n",
    "    \n",
    "    \n",
    "\n",
    "\n",
    "def takeInput() :\n",
    "    inputList = [int(ele) for ele in input().split()]\n",
    "    head = None\n",
    "    tail = None\n",
    "    \n",
    "    for currData  in inputList:\n",
    "        \n",
    "        if currData == -1:\n",
    "            break;\n",
    "        \n",
    "        newNode = Node(currData)\n",
    "        \n",
    "        if head is None:\n",
    "            head = newNode\n",
    "            tail = newNode\n",
    "        else:\n",
    "            tail.next = newNode\n",
    "            tail = newNode\n",
    "            \n",
    "    return head\n",
    "\n",
    "\n",
    "\n",
    "def printLinkedList(head) :\n",
    "\n",
    "    while head is not None:\n",
    "        print(str(head.data) + \"->\",end=\"\")\n",
    "        head = head.next\n",
    "    print(\"None\")\n",
    "    return\n",
    "\n",
    "\n",
    "head = takeInput()\n",
    "i = int(input())\n",
    "j = int(input())\n",
    "printLinkedList(head)\n",
    "head = swapNodes(head, i, j)\n",
    "printLinkedList(head)"
   ]
  },
  {
   "cell_type": "code",
   "execution_count": null,
   "metadata": {},
   "outputs": [],
   "source": []
  }
 ],
 "metadata": {
  "kernelspec": {
   "display_name": "Python 3",
   "language": "python",
   "name": "python3"
  },
  "language_info": {
   "codemirror_mode": {
    "name": "ipython",
    "version": 3
   },
   "file_extension": ".py",
   "mimetype": "text/x-python",
   "name": "python",
   "nbconvert_exporter": "python",
   "pygments_lexer": "ipython3",
   "version": "3.7.6"
  }
 },
 "nbformat": 4,
 "nbformat_minor": 4
}
